{
  "metadata": {
    "kernelspec": {
      "name": "python",
      "display_name": "Python (Pyodide)",
      "language": "python"
    },
    "language_info": {
      "codemirror_mode": {
        "name": "python",
        "version": 3
      },
      "file_extension": ".py",
      "mimetype": "text/x-python",
      "name": "python",
      "nbconvert_exporter": "python",
      "pygments_lexer": "ipython3",
      "version": "3.8"
    }
  },
  "nbformat_minor": 5,
  "nbformat": 4,
  "cells": [
    {
      "id": "aafc2d73-b13b-4f11-9774-ec72f57bdd40",
      "cell_type": "code",
      "source": "import skimage as ski\nimport matplotlib.pyplot as plt\nimport numpy as np\nimport os \nfrom skimage import io, exposure, restoration, filters, morphology",
      "metadata": {
        "trusted": true
      },
      "outputs": [
        {
          "name": "stderr",
          "output_type": "stream",
          "text": "Matplotlib is building the font cache; this may take a moment.\n"
        }
      ],
      "execution_count": 1
    },
    {
      "id": "6f6766d1-1039-4b45-973e-62df25ca988b",
      "cell_type": "code",
      "source": "def save_three_channel_image(layer0_path, layer1_path, layer2_path, full_path):\n    layer0_data = ski.io.imread(layer0_path)\n    layer1_data = ski.io.imread(layer1_path)\n    layer2_data = ski.io.imread(layer2_path)\n    # Anpassen des Kontrasts mit der adaptiven Histogrammangleichung\n    contrast_limit = 0.05  # Der Clip-Limit-Wert, anpassen nach Bedarf\n    adjusted_contrast_0 = exposure.equalize_adapthist(layer0_data, clip_limit=contrast_limit)\n    adjusted_contrast_1 = exposure.equalize_adapthist(layer1_data, clip_limit=contrast_limit)\n    adjusted_contrast_2 = exposure.equalize_adapthist(layer2_data, clip_limit=contrast_limit)\n    \n    # Stacking\n    img = np.stack([adjusted_contrast_0, adjusted_contrast_1, adjusted_contrast_2], axis=-1)\n    # saving\n    ski.io.imsave(full_path, img)\n",
      "metadata": {},
      "outputs": [],
      "execution_count": 344
    },
    {
      "id": "8578149a-c69e-4cfe-8859-fb51840a4d62",
      "cell_type": "code",
      "source": "from pathlib import Path\n\ndef get_layer_paths(base_dir, Inc, round_, hpi, Moi, fov, s, channels=[0, 2, 4]):\n    \"\"\"\n    Returns paths to TIFF image files based on the given folder structure.\n    Parameters:\n    Values must match the expected file and folder structure.\n    \"\"\"\n    #(example filename below)\n    filename_template = (\n        \"{Inc}Inc_PR8_Nepal_{Moi}MOI_{hpi}hpi_AllSegments_3R_50C__\"\n        \"Region {fov}_Processed001_s0{s}_ch{ch:02d}.tif\"\n    )\n    folder = Path(base_dir) / f\"{Inc} Inc\" / f\"r{round_}\" / f\"{hpi} hpi\"\n\n    layers = {\n        f\"layer{i}\": folder / filename_template.format(\n            Inc=Inc, Moi=Moi, hpi=hpi, fov=fov, s=s, ch=ch\n        )\n        for i, ch in enumerate(channels)\n    }\n\n    return layers",
      "metadata": {
        "trusted": true
      },
      "outputs": [],
      "execution_count": null
    },
    {
      "id": "f88cdfa6-e774-41e1-80fe-1a1a905cff41",
      "cell_type": "code",
      "source": "# Example parameters for file naming\nmutant = \"PSIall\" # (if used)\nrep = \"1\"\nMoi = \"0.3\"\nhpi = \"6\"\nfov = \"12\"\nInc = \"3\"\nround_ = \"2\"\ns = \"8\"\n\n# Construct filename and output path\nfilename = f\"3nt3chan_{mutant}_rep{rep}_{Moi}MOI_{hpi}hpi_fov{fov}_{Inc}Inc_round0{round_}_ch0-2-4_s{s}\"\noutput_dir = \"results/three_channel_images/\"  \noutput_path = Path(output_dir) / f\"{filename}.tiff\"\n\nsave_three_channel_image(layer0_path, layer1_path, layer2_path, output_path)\n",
      "metadata": {
        "trusted": true
      },
      "outputs": [],
      "execution_count": null
    }
  ]
}