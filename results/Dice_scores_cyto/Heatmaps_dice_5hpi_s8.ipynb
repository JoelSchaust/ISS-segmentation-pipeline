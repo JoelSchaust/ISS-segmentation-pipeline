{
 "cells": [
  {
   "cell_type": "markdown",
   "id": "151c2639-05d4-4d62-a2bb-5ec2bf700b2e",
   "metadata": {},
   "source": [
    "## libraries"
   ]
  },
  {
   "cell_type": "code",
   "execution_count": 1,
   "id": "5030ead7-1eec-4600-b611-1aef67177034",
   "metadata": {},
   "outputs": [],
   "source": [
    "import os \n",
    "import pandas as pd \n",
    "from tabulate import tabulate"
   ]
  },
  {
   "cell_type": "markdown",
   "id": "6d0da15b-3519-4311-8b6b-49023c44905c",
   "metadata": {},
   "source": [
    "## fetch directories and files"
   ]
  },
  {
   "cell_type": "code",
   "execution_count": 2,
   "id": "128ac36e-ba64-4fab-aeba-c897a4b408ba",
   "metadata": {},
   "outputs": [],
   "source": [
    "ft = \"0.5\"\n",
    "ct = \"-6.0\""
   ]
  },
  {
   "cell_type": "code",
   "execution_count": 8,
   "id": "3a6fdf4d-d5e1-44a7-aa9c-737d7b36d36c",
   "metadata": {},
   "outputs": [],
   "source": [
    "data_pattern = f\"ft{ft}_ct{ct}_3nt3chan_rep2_1MOI_5hpi_fov13_6Inc_round02_ch0-2-4_s8.txt\"\n",
    "data_ordner_path = f\"/home/s361852/Schreibtisch/in-situ-seq-segmentation/data/segmentation_3nt_3chan_non_mutant/Verdünnungsreihe_v3/postprocessed/Dice_scores_correct/\""
   ]
  },
  {
   "cell_type": "code",
   "execution_count": 9,
   "id": "c635d408-e08d-4933-96bc-d8c5b140feaf",
   "metadata": {},
   "outputs": [],
   "source": [
    "data = os.path.join(data_ordner_path, data_pattern)"
   ]
  },
  {
   "cell_type": "code",
   "execution_count": 10,
   "id": "69c8c059-eac0-4b8c-818f-8b9418361c2e",
   "metadata": {},
   "outputs": [
    {
     "name": "stdout",
     "output_type": "stream",
     "text": [
      "/home/s361852/Schreibtisch/in-situ-seq-segmentation/data/segmentation_3nt_3chan_non_mutant/Verdünnungsreihe_v3/postprocessed/Dice_scores_correct/ft0.5_ct-6.0_3nt3chan_rep2_1MOI_5hpi_fov13_6Inc_round02_ch0-2-4_s8.txt\n"
     ]
    }
   ],
   "source": [
    "print(data)"
   ]
  },
  {
   "cell_type": "code",
   "execution_count": 11,
   "id": "ea1947cc-78b1-46f9-8e14-2448e75942f3",
   "metadata": {},
   "outputs": [],
   "source": [
    "def read_first_line(data):\n",
    "    with open(data, \"r\") as data:\n",
    "        first_line = data.readline()\n",
    "    return first_line\n"
   ]
  },
  {
   "cell_type": "code",
   "execution_count": 12,
   "id": "fd1701e6-86ea-4d63-9fac-694cfa15b820",
   "metadata": {},
   "outputs": [
    {
     "data": {
      "text/plain": [
       "'Generalized Dice Score: 0.9170685119530595\\n'"
      ]
     },
     "execution_count": 12,
     "metadata": {},
     "output_type": "execute_result"
    }
   ],
   "source": [
    "read_first_line(data)"
   ]
  },
  {
   "cell_type": "code",
   "execution_count": null,
   "id": "9b8375e4-2d9c-4254-99d6-467c93595879",
   "metadata": {},
   "outputs": [],
   "source": []
  },
  {
   "cell_type": "markdown",
   "id": "cdde97d6-3afa-49b9-adb3-a1d2859077f5",
   "metadata": {},
   "source": [
    "## loop"
   ]
  },
  {
   "cell_type": "code",
   "execution_count": 13,
   "id": "1a95f956-0469-4a24-a74e-6c3a753a0b15",
   "metadata": {},
   "outputs": [],
   "source": [
    "#fts = [0.0, 0.25, 0.5, 0.75, 1.0]\n",
    "#cts = [-6.0, -5.0, -4.0, -3.0, -2.0, -1.0, 0.0]"
   ]
  },
  {
   "cell_type": "code",
   "execution_count": 14,
   "id": "80cc9353-1687-4739-85bf-bcb05ec05ee1",
   "metadata": {},
   "outputs": [],
   "source": [
    "## hier fehlen einige FOV die stecken geblieben sind?"
   ]
  },
  {
   "cell_type": "code",
   "execution_count": 15,
   "id": "a8407df3-582e-44b0-8c2d-89bc9341e41d",
   "metadata": {},
   "outputs": [],
   "source": [
    "fts = [0.0, 0.25, 0.5, 0.75, 1.0]\n",
    "cts = [-6.0, -5.0, -4.0, -3.0, -2.0, -1.0, 0.0]"
   ]
  },
  {
   "cell_type": "code",
   "execution_count": 16,
   "id": "61a3e52b-b47b-437c-a24e-f4c6ff710b74",
   "metadata": {},
   "outputs": [],
   "source": [
    "dice_list = []\n",
    "for ft in fts: \n",
    "    for ct in cts: \n",
    "        data_pattern = f\"ft{ft}_ct{ct}_3nt3chan_rep2_1MOI_5hpi_fov13_6Inc_round02_ch0-2-4_s8.txt\"\n",
    "        data_path = os.path.join(data_ordner_path, data_pattern)\n",
    "        sample = f\"ft{ft}ct{ct}\"\n",
    "        data = open(data_path, \"r\")\n",
    "        first_line = data.readline()\n",
    "        dice_info = first_line[24:].strip()\n",
    "        dice_list.append([sample, dice_info])\n",
    "        #dice_list.append(dice_info)\n",
    "        \n",
    "\n",
    "#return erste_zeile[4:].strip()       \n",
    "    "
   ]
  },
  {
   "cell_type": "code",
   "execution_count": 17,
   "id": "24e72fb6-79f6-42b5-b834-c92d30decd0c",
   "metadata": {},
   "outputs": [
    {
     "name": "stdout",
     "output_type": "stream",
     "text": [
      "[['ft0.0ct-6.0', '0.9299866592646063'], ['ft0.0ct-5.0', '0.9298471917093245'], ['ft0.0ct-4.0', '0.9293189091402801'], ['ft0.0ct-3.0', '0.9284696984674745'], ['ft0.0ct-2.0', '0.9160318727473546'], ['ft0.0ct-1.0', '0.8988255937618985'], ['ft0.0ct0.0', '0.8809713345868307'], ['ft0.25ct-6.0', '0.8344393681044386'], ['ft0.25ct-5.0', '0.8342857313691581'], ['ft0.25ct-4.0', '0.8378492021090751'], ['ft0.25ct-3.0', '0.8381097096344297'], ['ft0.25ct-2.0', '0.8537676451544458'], ['ft0.25ct-1.0', '0.866664256183741'], ['ft0.25ct0.0', '0.8625781835786677'], ['ft0.5ct-6.0', '0.9170685119530595'], ['ft0.5ct-5.0', '0.9169380196435849'], ['ft0.5ct-4.0', '0.9163938038591044'], ['ft0.5ct-3.0', '0.9156144172203274'], ['ft0.5ct-2.0', '0.9093754537178028'], ['ft0.5ct-1.0', '0.8987592664303478'], ['ft0.5ct0.0', '0.8790320105255396'], ['ft0.75ct-6.0', '0.9281418573793427'], ['ft0.75ct-5.0', '0.9280010863889647'], ['ft0.75ct-4.0', '0.9274696159034904'], ['ft0.75ct-3.0', '0.9265916688548232'], ['ft0.75ct-2.0', '0.9160318727473546'], ['ft0.75ct-1.0', '0.8988257834475274'], ['ft0.75ct0.0', '0.88097153775044'], ['ft1.0ct-6.0', '0.9299866592646063'], ['ft1.0ct-5.0', '0.9298471917093245'], ['ft1.0ct-4.0', '0.9293189091402801'], ['ft1.0ct-3.0', '0.9284696984674745'], ['ft1.0ct-2.0', '0.9160318727473546'], ['ft1.0ct-1.0', '0.8988257834475274'], ['ft1.0ct0.0', '0.88097153775044']]\n"
     ]
    }
   ],
   "source": [
    "print(dice_list)"
   ]
  },
  {
   "cell_type": "code",
   "execution_count": 18,
   "id": "98c3662a-a500-4b21-a753-cd6dfc2a5fab",
   "metadata": {},
   "outputs": [
    {
     "name": "stdout",
     "output_type": "stream",
     "text": [
      "sample           score\n",
      "------------  --------\n",
      "ft0.0ct-6.0   0.929987\n",
      "ft0.0ct-5.0   0.929847\n",
      "ft0.0ct-4.0   0.929319\n",
      "ft0.0ct-3.0   0.92847\n",
      "ft0.0ct-2.0   0.916032\n",
      "ft0.0ct-1.0   0.898826\n",
      "ft0.0ct0.0    0.880971\n",
      "ft0.25ct-6.0  0.834439\n",
      "ft0.25ct-5.0  0.834286\n",
      "ft0.25ct-4.0  0.837849\n",
      "ft0.25ct-3.0  0.83811\n",
      "ft0.25ct-2.0  0.853768\n",
      "ft0.25ct-1.0  0.866664\n",
      "ft0.25ct0.0   0.862578\n",
      "ft0.5ct-6.0   0.917069\n",
      "ft0.5ct-5.0   0.916938\n",
      "ft0.5ct-4.0   0.916394\n",
      "ft0.5ct-3.0   0.915614\n",
      "ft0.5ct-2.0   0.909375\n",
      "ft0.5ct-1.0   0.898759\n",
      "ft0.5ct0.0    0.879032\n",
      "ft0.75ct-6.0  0.928142\n",
      "ft0.75ct-5.0  0.928001\n",
      "ft0.75ct-4.0  0.92747\n",
      "ft0.75ct-3.0  0.926592\n",
      "ft0.75ct-2.0  0.916032\n",
      "ft0.75ct-1.0  0.898826\n",
      "ft0.75ct0.0   0.880972\n",
      "ft1.0ct-6.0   0.929987\n",
      "ft1.0ct-5.0   0.929847\n",
      "ft1.0ct-4.0   0.929319\n",
      "ft1.0ct-3.0   0.92847\n",
      "ft1.0ct-2.0   0.916032\n",
      "ft1.0ct-1.0   0.898826\n",
      "ft1.0ct0.0    0.880972\n"
     ]
    }
   ],
   "source": [
    ">>> print(tabulate(dice_list, headers=[\"sample\", \"score\"]))"
   ]
  },
  {
   "cell_type": "markdown",
   "id": "909307f2-21c7-44bf-9a38-10bf33bf8a43",
   "metadata": {},
   "source": [
    "## Heatmap"
   ]
  },
  {
   "cell_type": "code",
   "execution_count": 19,
   "id": "cea7c944-9607-46f4-8efb-f7c5dacfdbb9",
   "metadata": {},
   "outputs": [
    {
     "data": {
      "image/png": "[encoded data removed]",
      "text/plain": [
       "<Figure size 1200x800 with 2 Axes>"
      ]
     },
     "metadata": {},
     "output_type": "display_data"
    },
    {
     "name": "stdout",
     "output_type": "stream",
     "text": [
      "|    | sample       |    score |   ft |   ct |\n",
      "|---:|:-------------|---------:|-----:|-----:|\n",
      "|  0 | ft0.0ct-6.0  | 0.929987 | 0    |   -6 |\n",
      "|  1 | ft0.0ct-5.0  | 0.929847 | 0    |   -5 |\n",
      "|  2 | ft0.0ct-4.0  | 0.929319 | 0    |   -4 |\n",
      "|  3 | ft0.0ct-3.0  | 0.92847  | 0    |   -3 |\n",
      "|  4 | ft0.0ct-2.0  | 0.916032 | 0    |   -2 |\n",
      "|  5 | ft0.0ct-1.0  | 0.898826 | 0    |   -1 |\n",
      "|  6 | ft0.0ct0.0   | 0.880971 | 0    |    0 |\n",
      "|  7 | ft0.25ct-6.0 | 0.834439 | 0.25 |   -6 |\n",
      "|  8 | ft0.25ct-5.0 | 0.834286 | 0.25 |   -5 |\n",
      "|  9 | ft0.25ct-4.0 | 0.837849 | 0.25 |   -4 |\n",
      "| 10 | ft0.25ct-3.0 | 0.83811  | 0.25 |   -3 |\n",
      "| 11 | ft0.25ct-2.0 | 0.853768 | 0.25 |   -2 |\n",
      "| 12 | ft0.25ct-1.0 | 0.866664 | 0.25 |   -1 |\n",
      "| 13 | ft0.25ct0.0  | 0.862578 | 0.25 |    0 |\n",
      "| 14 | ft0.5ct-6.0  | 0.917069 | 0.5  |   -6 |\n",
      "| 15 | ft0.5ct-5.0  | 0.916938 | 0.5  |   -5 |\n",
      "| 16 | ft0.5ct-4.0  | 0.916394 | 0.5  |   -4 |\n",
      "| 17 | ft0.5ct-3.0  | 0.915614 | 0.5  |   -3 |\n",
      "| 18 | ft0.5ct-2.0  | 0.909375 | 0.5  |   -2 |\n",
      "| 19 | ft0.5ct-1.0  | 0.898759 | 0.5  |   -1 |\n",
      "| 20 | ft0.5ct0.0   | 0.879032 | 0.5  |    0 |\n",
      "| 21 | ft0.75ct-6.0 | 0.928142 | 0.75 |   -6 |\n",
      "| 22 | ft0.75ct-5.0 | 0.928001 | 0.75 |   -5 |\n",
      "| 23 | ft0.75ct-4.0 | 0.92747  | 0.75 |   -4 |\n",
      "| 24 | ft0.75ct-3.0 | 0.926592 | 0.75 |   -3 |\n",
      "| 25 | ft0.75ct-2.0 | 0.916032 | 0.75 |   -2 |\n",
      "| 26 | ft0.75ct-1.0 | 0.898826 | 0.75 |   -1 |\n",
      "| 27 | ft0.75ct0.0  | 0.880972 | 0.75 |    0 |\n",
      "| 28 | ft1.0ct-6.0  | 0.929987 | 1    |   -6 |\n",
      "| 29 | ft1.0ct-5.0  | 0.929847 | 1    |   -5 |\n",
      "| 30 | ft1.0ct-4.0  | 0.929319 | 1    |   -4 |\n",
      "| 31 | ft1.0ct-3.0  | 0.92847  | 1    |   -3 |\n",
      "| 32 | ft1.0ct-2.0  | 0.916032 | 1    |   -2 |\n",
      "| 33 | ft1.0ct-1.0  | 0.898826 | 1    |   -1 |\n",
      "| 34 | ft1.0ct0.0   | 0.880972 | 1    |    0 |\n"
     ]
    }
   ],
   "source": [
    "import pandas as pd\n",
    "import seaborn as sns\n",
    "import matplotlib.pyplot as plt\n",
    "from tabulate import tabulate\n",
    "\n",
    "#Momentan ist dice_ist noch eine Liste von listen - hier in dataframe umgewandelt mit keywörtern\n",
    "df = pd.DataFrame(dice_list, columns=['sample', 'score'])\n",
    "\n",
    "df['ft'] = df['sample'].apply(lambda x: float(x.split('ct')[0][2:]))\n",
    "df['ct'] = df['sample'].apply(lambda x: float(x.split('ct')[1]))\n",
    "\n",
    "#Zahlen müssen als float interpretiert werden, sonst crasht seaborn irgendwie immer\n",
    "df['score'] = df['score'].astype(float)\n",
    "\n",
    "#ändern der Reihenfolge da 0.0 technically ja über 1.0 stehen muss\n",
    "df['ft'] = pd.Categorical(df['ft'], categories=[0.0, 1.0, 0.75, 0.5, 0.25], ordered=True)\n",
    "\n",
    "pivot_table = df.pivot(index='ft', columns='ct', values='score')\n",
    "\n",
    "plt.figure(figsize=(12, 8))\n",
    "sns.heatmap(pivot_table, annot=True, cmap=\"YlGnBu\", fmt=\".3f\")\n",
    "plt.title('Heatmap of Dice Scores')\n",
    "plt.show()\n",
    "\n",
    "print(tabulate(df, headers=\"keys\", tablefmt=\"pipe\"))"
   ]
  },
  {
   "cell_type": "code",
   "execution_count": null,
   "id": "e5de1330-a945-4003-abed-3aeb65bed56e",
   "metadata": {},
   "outputs": [],
   "source": []
  },
  {
   "cell_type": "code",
   "execution_count": null,
   "id": "30cbb241-2b57-465d-8ddb-07e8ca85713f",
   "metadata": {},
   "outputs": [],
   "source": []
  },
  {
   "cell_type": "code",
   "execution_count": null,
   "id": "dad66f0c-4cde-40f9-9201-1ed9e39b0a4c",
   "metadata": {},
   "outputs": [],
   "source": []
  }
 ],
 "metadata": {
  "kernelspec": {
   "display_name": "Python 3 (ipykernel)",
   "language": "python",
   "name": "python3"
  },
  "language_info": {
   "codemirror_mode": {
    "name": "ipython",
    "version": 3
   },
   "file_extension": ".py",
   "mimetype": "text/x-python",
   "name": "python",
   "nbconvert_exporter": "python",
   "pygments_lexer": "ipython3",
   "version": "3.10.10"
  }
 },
 "nbformat": 4,
 "nbformat_minor": 5
}
