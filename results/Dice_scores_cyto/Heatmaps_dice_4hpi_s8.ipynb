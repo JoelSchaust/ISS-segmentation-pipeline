{
 "cells": [
  {
   "cell_type": "markdown",
   "id": "151c2639-05d4-4d62-a2bb-5ec2bf700b2e",
   "metadata": {},
   "source": [
    "## libraries"
   ]
  },
  {
   "cell_type": "code",
   "execution_count": 1,
   "id": "5030ead7-1eec-4600-b611-1aef67177034",
   "metadata": {},
   "outputs": [],
   "source": [
    "import os \n",
    "import pandas as pd \n",
    "from tabulate import tabulate"
   ]
  },
  {
   "cell_type": "markdown",
   "id": "6d0da15b-3519-4311-8b6b-49023c44905c",
   "metadata": {},
   "source": [
    "## fetch directories and files"
   ]
  },
  {
   "cell_type": "code",
   "execution_count": 10,
   "id": "128ac36e-ba64-4fab-aeba-c897a4b408ba",
   "metadata": {},
   "outputs": [],
   "source": [
    "ft = \"0.5\"\n",
    "ct = \"-6.0\""
   ]
  },
  {
   "cell_type": "code",
   "execution_count": 11,
   "id": "3a6fdf4d-d5e1-44a7-aa9c-737d7b36d36c",
   "metadata": {},
   "outputs": [],
   "source": [
    "data_pattern = f\"ft{ft}_ct{ct}_3nt3chan_rep2_1MOI_4hpi_fov11_6Inc_round02_ch0-2-4_s8.txt\"\n",
    "data_ordner_path = f\"/home/s361852/Schreibtisch/in-situ-seq-segmentation/data/segmentation_3nt_3chan_non_mutant/Verdünnungsreihe_v3/postprocessed/Dice_scores_correct/\""
   ]
  },
  {
   "cell_type": "code",
   "execution_count": 12,
   "id": "c635d408-e08d-4933-96bc-d8c5b140feaf",
   "metadata": {},
   "outputs": [],
   "source": [
    "data = os.path.join(data_ordner_path, data_pattern)"
   ]
  },
  {
   "cell_type": "code",
   "execution_count": 13,
   "id": "69c8c059-eac0-4b8c-818f-8b9418361c2e",
   "metadata": {},
   "outputs": [
    {
     "name": "stdout",
     "output_type": "stream",
     "text": [
      "/home/s361852/Schreibtisch/in-situ-seq-segmentation/data/segmentation_3nt_3chan_non_mutant/Verdünnungsreihe_v3/postprocessed/Dice_scores_correct/ft0.5_ct-6.0_3nt3chan_rep2_1MOI_4hpi_fov11_6Inc_round02_ch0-2-4_s8.txt\n"
     ]
    }
   ],
   "source": [
    "print(data)"
   ]
  },
  {
   "cell_type": "code",
   "execution_count": 14,
   "id": "ea1947cc-78b1-46f9-8e14-2448e75942f3",
   "metadata": {},
   "outputs": [],
   "source": [
    "def read_first_line(data):\n",
    "    with open(data, \"r\") as data:\n",
    "        first_line = data.readline()\n",
    "    return first_line\n"
   ]
  },
  {
   "cell_type": "code",
   "execution_count": 15,
   "id": "fd1701e6-86ea-4d63-9fac-694cfa15b820",
   "metadata": {},
   "outputs": [
    {
     "data": {
      "text/plain": [
       "'Generalized Dice Score: 0.8211350267405481\\n'"
      ]
     },
     "execution_count": 15,
     "metadata": {},
     "output_type": "execute_result"
    }
   ],
   "source": [
    "read_first_line(data)"
   ]
  },
  {
   "cell_type": "code",
   "execution_count": null,
   "id": "9b8375e4-2d9c-4254-99d6-467c93595879",
   "metadata": {},
   "outputs": [],
   "source": []
  },
  {
   "cell_type": "code",
   "execution_count": 16,
   "id": "0127015a-d25d-4434-8973-b381c3184267",
   "metadata": {},
   "outputs": [
    {
     "ename": "SyntaxError",
     "evalue": "invalid syntax (3179581529.py, line 1)",
     "output_type": "error",
     "traceback": [
      "\u001b[0;36m  Cell \u001b[0;32mIn[16], line 1\u001b[0;36m\u001b[0m\n\u001b[0;31m    .readline(<number>)\u001b[0m\n\u001b[0m    ^\u001b[0m\n\u001b[0;31mSyntaxError\u001b[0m\u001b[0;31m:\u001b[0m invalid syntax\n"
     ]
    }
   ],
   "source": [
    ".readline(<number>)"
   ]
  },
  {
   "cell_type": "markdown",
   "id": "cdde97d6-3afa-49b9-adb3-a1d2859077f5",
   "metadata": {},
   "source": [
    "## loop"
   ]
  },
  {
   "cell_type": "code",
   "execution_count": 17,
   "id": "1a95f956-0469-4a24-a74e-6c3a753a0b15",
   "metadata": {},
   "outputs": [],
   "source": [
    "fts = [0.0, 0.25, 0.5, 0.75, 1.0]#1.0\n",
    "cts = [-6.0, -5.0, -4.0, -3.0, -2.0, -1.0, 0.0]"
   ]
  },
  {
   "cell_type": "code",
   "execution_count": 18,
   "id": "61a3e52b-b47b-437c-a24e-f4c6ff710b74",
   "metadata": {},
   "outputs": [],
   "source": [
    "dice_list = []\n",
    "for ft in fts: \n",
    "    for ct in cts: \n",
    "        data_pattern = f\"ft{ft}_ct{ct}_3nt3chan_rep2_1MOI_4hpi_fov11_6Inc_round02_ch0-2-4_s8.txt\"\n",
    "        data_path = os.path.join(data_ordner_path, data_pattern)\n",
    "        sample = f\"ft{ft}ct{ct}\"\n",
    "        data = open(data_path, \"r\")\n",
    "        first_line = data.readline()\n",
    "        dice_info = first_line[24:].strip()\n",
    "        dice_list.append([sample, dice_info])\n",
    "        #dice_list.append(dice_info)\n",
    "        \n",
    "\n",
    "#return erste_zeile[4:].strip()       \n",
    "    "
   ]
  },
  {
   "cell_type": "code",
   "execution_count": 19,
   "id": "24e72fb6-79f6-42b5-b834-c92d30decd0c",
   "metadata": {},
   "outputs": [
    {
     "name": "stdout",
     "output_type": "stream",
     "text": [
      "[['ft0.0ct-6.0', '0.7195833804501971'], ['ft0.0ct-5.0', '0.7157582570661796'], ['ft0.0ct-4.0', '0.8111715323685906'], ['ft0.0ct-3.0', '0.8159475578331518'], ['ft0.0ct-2.0', '0.8326699462732468'], ['ft0.0ct-1.0', '0.8043816875003464'], ['ft0.0ct0.0', '0.7717090840849092'], ['ft0.25ct-6.0', '0.5386088387534713'], ['ft0.25ct-5.0', '0.5585043904020658'], ['ft0.25ct-4.0', '0.595844681286067'], ['ft0.25ct-3.0', '0.5769799525490188'], ['ft0.25ct-2.0', '0.700678904108915'], ['ft0.25ct-1.0', '0.7574630562716732'], ['ft0.25ct0.0', '0.7389445446462466'], ['ft0.5ct-6.0', '0.8211350267405481'], ['ft0.5ct-5.0', '0.820736548296446'], ['ft0.5ct-4.0', '0.8240679228859115'], ['ft0.5ct-3.0', '0.8151457629367548'], ['ft0.5ct-2.0', '0.8253092461882334'], ['ft0.5ct-1.0', '0.8013456026463436'], ['ft0.5ct0.0', '0.7730168973273225'], ['ft0.75ct-6.0', '0.8701123667270158'], ['ft0.75ct-5.0', '0.8697700402252381'], ['ft0.75ct-4.0', '0.8674149771663998'], ['ft0.75ct-3.0', '0.8598294273159015'], ['ft0.75ct-2.0', '0.8433276368755855'], ['ft0.75ct-1.0', '0.8043816875003464'], ['ft0.75ct0.0', '0.7717088050634342'], ['ft1.0ct-6.0', '0.7125146693148177'], ['ft1.0ct-5.0', '0.7879557131850614'], ['ft1.0ct-4.0', '0.8457929220207422'], ['ft1.0ct-3.0', '0.8391821874837295'], ['ft1.0ct-2.0', '0.8326699462732468'], ['ft1.0ct-1.0', '0.8043816875003464'], ['ft1.0ct0.0', '0.7717088050634342']]\n"
     ]
    }
   ],
   "source": [
    "print(dice_list)"
   ]
  },
  {
   "cell_type": "code",
   "execution_count": 20,
   "id": "98c3662a-a500-4b21-a753-cd6dfc2a5fab",
   "metadata": {},
   "outputs": [
    {
     "name": "stdout",
     "output_type": "stream",
     "text": [
      "sample           score\n",
      "------------  --------\n",
      "ft0.0ct-6.0   0.719583\n",
      "ft0.0ct-5.0   0.715758\n",
      "ft0.0ct-4.0   0.811172\n",
      "ft0.0ct-3.0   0.815948\n",
      "ft0.0ct-2.0   0.83267\n",
      "ft0.0ct-1.0   0.804382\n",
      "ft0.0ct0.0    0.771709\n",
      "ft0.25ct-6.0  0.538609\n",
      "ft0.25ct-5.0  0.558504\n",
      "ft0.25ct-4.0  0.595845\n",
      "ft0.25ct-3.0  0.57698\n",
      "ft0.25ct-2.0  0.700679\n",
      "ft0.25ct-1.0  0.757463\n",
      "ft0.25ct0.0   0.738945\n",
      "ft0.5ct-6.0   0.821135\n",
      "ft0.5ct-5.0   0.820737\n",
      "ft0.5ct-4.0   0.824068\n",
      "ft0.5ct-3.0   0.815146\n",
      "ft0.5ct-2.0   0.825309\n",
      "ft0.5ct-1.0   0.801346\n",
      "ft0.5ct0.0    0.773017\n",
      "ft0.75ct-6.0  0.870112\n",
      "ft0.75ct-5.0  0.86977\n",
      "ft0.75ct-4.0  0.867415\n",
      "ft0.75ct-3.0  0.859829\n",
      "ft0.75ct-2.0  0.843328\n",
      "ft0.75ct-1.0  0.804382\n",
      "ft0.75ct0.0   0.771709\n",
      "ft1.0ct-6.0   0.712515\n",
      "ft1.0ct-5.0   0.787956\n",
      "ft1.0ct-4.0   0.845793\n",
      "ft1.0ct-3.0   0.839182\n",
      "ft1.0ct-2.0   0.83267\n",
      "ft1.0ct-1.0   0.804382\n",
      "ft1.0ct0.0    0.771709\n"
     ]
    }
   ],
   "source": [
    ">>> print(tabulate(dice_list, headers=[\"sample\", \"score\"]))"
   ]
  },
  {
   "cell_type": "markdown",
   "id": "a71833e3-c02b-49c9-a95f-15b6dd5e6850",
   "metadata": {},
   "source": [
    "## Heatmaps"
   ]
  },
  {
   "cell_type": "code",
   "execution_count": 47,
   "id": "bace8e43-f785-421f-9293-d71b1b499e90",
   "metadata": {},
   "outputs": [
    {
     "data": {
      "image/png": "[encoded data removed]",
      "text/plain": [
       "<Figure size 1200x800 with 2 Axes>"
      ]
     },
     "metadata": {},
     "output_type": "display_data"
    },
    {
     "name": "stdout",
     "output_type": "stream",
     "text": [
      "|    | sample       |     score |   ft |   ct |\n",
      "|---:|:-------------|----------:|-----:|-----:|\n",
      "|  0 | ft0.0ct-6.0  | 0.684246  | 0    |   -6 |\n",
      "|  1 | ft0.0ct-5.0  | 0.68916   | 0    |   -5 |\n",
      "|  2 | ft0.0ct-4.0  | 0.780782  | 0    |   -4 |\n",
      "|  3 | ft0.0ct-3.0  | 0.789709  | 0    |   -3 |\n",
      "|  4 | ft0.0ct-2.0  | 0.802984  | 0    |   -2 |\n",
      "|  5 | ft0.0ct-1.0  | 0.721969  | 0    |   -1 |\n",
      "|  6 | ft0.0ct0.0   | 0.702609  | 0    |    0 |\n",
      "|  7 | ft0.25ct-6.0 | 0.0803136 | 0.25 |   -6 |\n",
      "|  8 | ft0.25ct-5.0 | 0.0899718 | 0.25 |   -5 |\n",
      "|  9 | ft0.25ct-4.0 | 0.101896  | 0.25 |   -4 |\n",
      "| 10 | ft0.25ct-3.0 | 0.129076  | 0.25 |   -3 |\n",
      "| 11 | ft0.25ct-2.0 | 0.326217  | 0.25 |   -2 |\n",
      "| 12 | ft0.25ct-1.0 | 0.55083   | 0.25 |   -1 |\n",
      "| 13 | ft0.25ct0.0  | 0.600529  | 0.25 |    0 |\n",
      "| 14 | ft0.5ct-6.0  | 0.575019  | 0.5  |   -6 |\n",
      "| 15 | ft0.5ct-5.0  | 0.575019  | 0.5  |   -5 |\n",
      "| 16 | ft0.5ct-4.0  | 0.58707   | 0.5  |   -4 |\n",
      "| 17 | ft0.5ct-3.0  | 0.598112  | 0.5  |   -3 |\n",
      "| 18 | ft0.5ct-2.0  | 0.67361   | 0.5  |   -2 |\n",
      "| 19 | ft0.5ct-1.0  | 0.688338  | 0.5  |   -1 |\n",
      "| 20 | ft0.5ct0.0   | 0.693186  | 0.5  |    0 |\n",
      "| 21 | ft0.75ct-6.0 | 0.746283  | 0.75 |   -6 |\n",
      "| 22 | ft0.75ct-5.0 | 0.746283  | 0.75 |   -5 |\n",
      "| 23 | ft0.75ct-4.0 | 0.746283  | 0.75 |   -4 |\n",
      "| 24 | ft0.75ct-3.0 | 0.746283  | 0.75 |   -3 |\n",
      "| 25 | ft0.75ct-2.0 | 0.786012  | 0.75 |   -2 |\n",
      "| 26 | ft0.75ct-1.0 | 0.721969  | 0.75 |   -1 |\n",
      "| 27 | ft0.75ct0.0  | 0.702609  | 0.75 |    0 |\n",
      "| 28 | ft1.0ct-6.0  | 0.678652  | 1    |   -6 |\n",
      "| 29 | ft1.0ct-5.0  | 0.740943  | 1    |   -5 |\n",
      "| 30 | ft1.0ct-4.0  | 0.813522  | 1    |   -4 |\n",
      "| 31 | ft1.0ct-3.0  | 0.813522  | 1    |   -3 |\n",
      "| 32 | ft1.0ct-2.0  | 0.802984  | 1    |   -2 |\n",
      "| 33 | ft1.0ct-1.0  | 0.721969  | 1    |   -1 |\n",
      "| 34 | ft1.0ct0.0   | 0.702609  | 1    |    0 |\n"
     ]
    }
   ],
   "source": [
    "import pandas as pd\n",
    "import seaborn as sns\n",
    "import matplotlib.pyplot as plt\n",
    "from tabulate import tabulate\n",
    "\n",
    "#Momentan ist dice_ist noch eine Liste von listen - hier in dataframe umgewandelt mit keywörtern\n",
    "df = pd.DataFrame(dice_list, columns=['sample', 'score'])\n",
    "\n",
    "df['ft'] = df['sample'].apply(lambda x: float(x.split('ct')[0][2:]))\n",
    "df['ct'] = df['sample'].apply(lambda x: float(x.split('ct')[1]))\n",
    "\n",
    "#Zahlen müssen als float interpretiert werden, sonst crasht seaborn irgendwie immer\n",
    "df['score'] = df['score'].astype(float)\n",
    "\n",
    "#ändern der Reihenfolge da 0.0 technically ja über 1.0 stehen muss\n",
    "df['ft'] = pd.Categorical(df['ft'], categories=[0.0, 1.0, 0.75, 0.5, 0.25], ordered=True)\n",
    "\n",
    "pivot_table = df.pivot(index='ft', columns='ct', values='score')\n",
    "\n",
    "plt.figure(figsize=(12, 8))\n",
    "sns.heatmap(pivot_table, annot=True, cmap=\"YlGnBu\", fmt=\".3f\")\n",
    "plt.title('Heatmap of Dice Scores')\n",
    "plt.show()\n",
    "\n",
    "print(tabulate(df, headers=\"keys\", tablefmt=\"pipe\"))"
   ]
  },
  {
   "cell_type": "code",
   "execution_count": null,
   "id": "ba67142a-4449-4836-ad3c-1acd8cdc9891",
   "metadata": {},
   "outputs": [],
   "source": []
  }
 ],
 "metadata": {
  "kernelspec": {
   "display_name": "Python 3 (ipykernel)",
   "language": "python",
   "name": "python3"
  },
  "language_info": {
   "codemirror_mode": {
    "name": "ipython",
    "version": 3
   },
   "file_extension": ".py",
   "mimetype": "text/x-python",
   "name": "python",
   "nbconvert_exporter": "python",
   "pygments_lexer": "ipython3",
   "version": "3.10.10"
  }
 },
 "nbformat": 4,
 "nbformat_minor": 5
}
